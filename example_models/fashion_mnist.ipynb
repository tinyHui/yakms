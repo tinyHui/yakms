{
 "cells": [
  {
   "cell_type": "markdown",
   "metadata": {
    "colab_type": "text",
    "id": "Se1CMIrWeOWn"
   },
   "source": [
    "# **Classifying Clothing Images**"
   ]
  },
  {
   "cell_type": "code",
   "execution_count": 1,
   "metadata": {
    "colab": {},
    "colab_type": "code",
    "id": "T4W0Ekpvcn1U"
   },
   "outputs": [],
   "source": [
    "# Import the necessary libraries\n",
    "import numpy as np\n",
    "import torch\n",
    "import matplotlib.pyplot as plt"
   ]
  },
  {
   "cell_type": "code",
   "execution_count": 2,
   "metadata": {
    "colab": {
     "base_uri": "https://localhost:8080/",
     "height": 51
    },
    "colab_type": "code",
    "id": "6dIcIhfVopto",
    "outputId": "c179f501-7fcb-4b34-fc7b-53f2fe3f5066"
   },
   "outputs": [
    {
     "name": "stdout",
     "output_type": "stream",
     "text": [
      "Gen RAM Free: 24.8 GB  | Proc size: 232.1 MB\n",
      "GPU RAM Free: 10438MB | Used: 737MB | Util   7% | Total 11175MB\n"
     ]
    }
   ],
   "source": [
    "# GPU check\n",
    "import psutil\n",
    "import humanize\n",
    "import os\n",
    "import GPUtil as GPU\n",
    "GPUs = GPU.getGPUs()\n",
    "# XXX: only one GPU on Colab and isn’t guaranteed\n",
    "gpu = GPUs[0]\n",
    "def printm():\n",
    "    process = psutil.Process(os.getpid())\n",
    "    print(\"Gen RAM Free: \" + humanize.naturalsize( psutil.virtual_memory().available ), \" | Proc size: \" + humanize.naturalsize( process.memory_info().rss))\n",
    "    print(\"GPU RAM Free: {0:.0f}MB | Used: {1:.0f}MB | Util {2:3.0f}% | Total {3:.0f}MB\".format(gpu.memoryFree, gpu.memoryUsed, gpu.memoryUtil*100, gpu.memoryTotal))\n",
    "printm()"
   ]
  },
  {
   "cell_type": "code",
   "execution_count": 3,
   "metadata": {
    "colab": {},
    "colab_type": "code",
    "id": "A2BeI0yheafI"
   },
   "outputs": [],
   "source": [
    "# Loading the Fashion-MNIST dataset\n",
    "from torchvision import datasets, transforms\n",
    "\n",
    "# Define a transform to normalize the data\n",
    "transform = transforms.Compose([transforms.ToTensor(),\n",
    "                                transforms.Normalize(0.5, 0.5)\n",
    "                               ])\n",
    "\n",
    "# Download and load the training data\n",
    "trainset = datasets.FashionMNIST('MNIST_data/', download = True, train = True, transform = transform)\n",
    "testset = datasets.FashionMNIST('MNIST_data/', download = True, train = False, transform = transform)\n",
    "trainloader = torch.utils.data.DataLoader(trainset, batch_size = 64, shuffle = True)\n",
    "testloader = torch.utils.data.DataLoader(testset, batch_size = 64, shuffle = True)"
   ]
  },
  {
   "cell_type": "code",
   "execution_count": 4,
   "metadata": {
    "colab": {
     "base_uri": "https://localhost:8080/",
     "height": 68
    },
    "colab_type": "code",
    "id": "7P-3bh9ajd9I",
    "outputId": "a0369c57-46d9-4af5-e30e-0352ab42933b"
   },
   "outputs": [
    {
     "name": "stdout",
     "output_type": "stream",
     "text": [
      "<class 'torch.Tensor'>\n",
      "torch.Size([64, 1, 28, 28])\n",
      "torch.Size([64])\n"
     ]
    }
   ],
   "source": [
    "# Examine a sample\n",
    "dataiter = iter(trainloader)\n",
    "images, labels = dataiter.next()\n",
    "print(type(images))\n",
    "print(images.shape)\n",
    "print(labels.shape)"
   ]
  },
  {
   "cell_type": "code",
   "execution_count": 5,
   "metadata": {
    "colab": {
     "base_uri": "https://localhost:8080/",
     "height": 282
    },
    "colab_type": "code",
    "id": "qLeSAPsJjysS",
    "outputId": "acd9bafe-392c-46cb-9bf1-79de23614da3"
   },
   "outputs": [
    {
     "data": {
      "text/plain": [
       "<matplotlib.image.AxesImage at 0x7fc940e0a340>"
      ]
     },
     "execution_count": 5,
     "metadata": {},
     "output_type": "execute_result"
    },
    {
     "data": {
      "image/png": "[encoded data removed]",
      "text/plain": [
       "<Figure size 432x288 with 1 Axes>"
      ]
     },
     "metadata": {
      "needs_background": "light"
     },
     "output_type": "display_data"
    }
   ],
   "source": [
    "plt.imshow(images[1].numpy().squeeze(), cmap = 'Greys_r')"
   ]
  },
  {
   "cell_type": "code",
   "execution_count": 6,
   "metadata": {},
   "outputs": [
    {
     "data": {
      "text/plain": [
       "torch.Size([1, 28, 28])"
      ]
     },
     "execution_count": 6,
     "metadata": {},
     "output_type": "execute_result"
    }
   ],
   "source": [
    "images[0].size()"
   ]
  },
  {
   "cell_type": "code",
   "execution_count": 7,
   "metadata": {
    "colab": {
     "base_uri": "https://localhost:8080/",
     "height": 527
    },
    "colab_type": "code",
    "id": "4ds0thNgkCqF",
    "outputId": "ef9d7ca2-ec97-40e3-9b87-bab499a57712"
   },
   "outputs": [
    {
     "name": "stdout",
     "output_type": "stream",
     "text": [
      "Epoch: 1/15.. Training loss: 0.427.. Test loss: 0.365.. Test Accuracy: 0.864\n",
      "Epoch: 2/15.. Training loss: 0.294.. Test loss: 0.320.. Test Accuracy: 0.878\n",
      "Epoch: 3/15.. Training loss: 0.239.. Test loss: 0.310.. Test Accuracy: 0.888\n",
      "Epoch: 4/15.. Training loss: 0.197.. Test loss: 0.296.. Test Accuracy: 0.897\n",
      "Epoch: 5/15.. Training loss: 0.164.. Test loss: 0.313.. Test Accuracy: 0.896\n",
      "Epoch: 6/15.. Training loss: 0.134.. Test loss: 0.322.. Test Accuracy: 0.902\n",
      "Epoch: 7/15.. Training loss: 0.114.. Test loss: 0.323.. Test Accuracy: 0.907\n",
      "Epoch: 8/15.. Training loss: 0.096.. Test loss: 0.316.. Test Accuracy: 0.904\n",
      "Epoch: 9/15.. Training loss: 0.080.. Test loss: 0.370.. Test Accuracy: 0.904\n",
      "Epoch: 10/15.. Training loss: 0.074.. Test loss: 0.398.. Test Accuracy: 0.902\n",
      "Epoch: 11/15.. Training loss: 0.061.. Test loss: 0.414.. Test Accuracy: 0.898\n",
      "Epoch: 12/15.. Training loss: 0.056.. Test loss: 0.448.. Test Accuracy: 0.899\n",
      "Epoch: 13/15.. Training loss: 0.053.. Test loss: 0.443.. Test Accuracy: 0.902\n",
      "Epoch: 14/15.. Training loss: 0.045.. Test loss: 0.473.. Test Accuracy: 0.903\n",
      "Epoch: 15/15.. Training loss: 0.039.. Test loss: 0.460.. Test Accuracy: 0.902\n"
     ]
    }
   ],
   "source": [
    "# Define the network architecture\n",
    "from torch import nn, optim\n",
    "import torch.nn.functional as F\n",
    "\n",
    "\n",
    "class Net(nn.Module):\n",
    "    def __init__(self):\n",
    "        super().__init__()\n",
    "        self.out_channel = 6\n",
    "        self.conv = nn.Sequential(\n",
    "                        nn.Conv2d(1, self.out_channel, 5),\n",
    "                        nn.ReLU(),\n",
    "                        nn.BatchNorm2d(self.out_channel),\n",
    "                        nn.Dropout(0.2),\n",
    "                        nn.Conv2d(self.out_channel, self.out_channel, 5),\n",
    "                        nn.ReLU(),\n",
    "                        nn.BatchNorm2d(self.out_channel),\n",
    "                        nn.Dropout(0.2),\n",
    "                    )\n",
    "\n",
    "        self.conv_out_dim = 20\n",
    "        self.out_dim = 1024\n",
    "        self.seq = nn.Sequential(\n",
    "                        nn.Linear(self.out_channel * self.conv_out_dim * self.conv_out_dim, self.out_dim),\n",
    "                        nn.ReLU(),\n",
    "                    )\n",
    "        \n",
    "        self.residual_downsampler = nn.Sequential(\n",
    "                                nn.Linear(1 * 28 * 28, self.out_dim),\n",
    "                                nn.ReLU(),\n",
    "                            )\n",
    "            \n",
    "        self.fc = nn.Sequential(\n",
    "                        nn.Linear(self.out_dim, 10),\n",
    "                        nn.LogSoftmax(dim=1),\n",
    "                    )\n",
    "    \n",
    "    def forward(self, x):\n",
    "        x_ = self.conv(x)\n",
    "        x_ = x_.view(-1, self.out_channel * self.conv_out_dim * self.conv_out_dim)\n",
    "        x_ = self.seq(x_)\n",
    "\n",
    "        res = x.view(-1, 28 * 28)\n",
    "        res = self.residual_downsampler(res)\n",
    "        x = x_ + res\n",
    "                \n",
    "        x = self.fc(x)\n",
    "        return x\n",
    "\n",
    "\n",
    "device = torch.device('cuda' if torch.cuda.is_available() else 'cpu')\n",
    "model = Net().to(device)\n",
    "\n",
    "# Define the loss\n",
    "criterion = nn.NLLLoss().to(device)\n",
    "\n",
    "# Define the optimizer\n",
    "optimizer = optim.Adam(model.parameters(), lr = 0.0005)\n",
    "\n",
    "# Define the epochs\n",
    "epochs = 15\n",
    "\n",
    "train_losses, test_losses = [], []\n",
    "\n",
    "for e in range(epochs):\n",
    "    running_loss = 0\n",
    "    \n",
    "    for images, labels in trainloader:\n",
    "        images = images.to(device)\n",
    "        labels = labels.to(device)\n",
    "\n",
    "        # Training pass\n",
    "        optimizer.zero_grad()\n",
    "\n",
    "        output = model.forward(images)\n",
    "        loss = criterion(output, labels)\n",
    "        loss.backward()\n",
    "        optimizer.step()\n",
    "\n",
    "        running_loss += loss.item()\n",
    "    \n",
    "    else:\n",
    "        test_loss = 0\n",
    "        accuracy = 0\n",
    "\n",
    "    # Turn off gradients for validation, saves memory and computation\n",
    "    with torch.no_grad():\n",
    "        # Set the model to evaluation mode\n",
    "        model.eval()\n",
    "\n",
    "        # Validation pass\n",
    "        for images, labels in testloader:\n",
    "            images = images.to(device)\n",
    "            labels = labels.to(device)\n",
    "\n",
    "            log_ps = model(images)\n",
    "            test_loss += criterion(log_ps, labels)\n",
    "\n",
    "            ps = torch.exp(log_ps)\n",
    "            top_p, top_class = ps.topk(1, dim = 1)\n",
    "            equals = top_class == labels.view(*top_class.shape)\n",
    "            accuracy += torch.mean(equals.type(torch.FloatTensor))\n",
    "\n",
    "        test_loss = test_loss.to('cpu')\n",
    "    \n",
    "    model.train()\n",
    "    train_losses.append(running_loss/len(trainloader))\n",
    "    test_losses.append(test_loss/len(testloader))\n",
    "    \n",
    "    print(\"Epoch: {}/{}..\".format(e+1, epochs),\n",
    "          \"Training loss: {:.3f}..\".format(running_loss/len(trainloader)),\n",
    "          \"Test loss: {:.3f}..\".format(test_loss/len(testloader)),\n",
    "          \"Test Accuracy: {:.3f}\".format(accuracy/len(testloader)))"
   ]
  },
  {
   "cell_type": "code",
   "execution_count": 8,
   "metadata": {
    "colab": {
     "base_uri": "https://localhost:8080/",
     "height": 282
    },
    "colab_type": "code",
    "id": "24VtkQ1ouMoc",
    "outputId": "de01f033-3e6b-45f3-b009-59c821126fa8"
   },
   "outputs": [
    {
     "data": {
      "text/plain": [
       "<matplotlib.legend.Legend at 0x7fc940d36370>"
      ]
     },
     "execution_count": 8,
     "metadata": {},
     "output_type": "execute_result"
    },
    {
     "data": {
      "image/png": "[encoded data removed]",
      "text/plain": [
       "<Figure size 432x288 with 1 Axes>"
      ]
     },
     "metadata": {
      "needs_background": "light"
     },
     "output_type": "display_data"
    }
   ],
   "source": [
    "plt.plot(train_losses, label = \"Training loss\")\n",
    "plt.plot(test_losses, label = \"Validation loss\")\n",
    "plt.legend(frameon = False)"
   ]
  },
  {
   "cell_type": "code",
   "execution_count": null,
   "metadata": {},
   "outputs": [],
   "source": []
  },
  {
   "cell_type": "markdown",
   "metadata": {
    "colab_type": "text",
    "id": "edL6diOAZfvy"
   },
   "source": [
    "**Saving the model**"
   ]
  },
  {
   "cell_type": "code",
   "execution_count": 9,
   "metadata": {
    "colab": {
     "base_uri": "https://localhost:8080/",
     "height": 360
    },
    "colab_type": "code",
    "id": "uFBOk5vCZhgx",
    "outputId": "74030597-81b5-45b0-a7f4-904ee205a3ea"
   },
   "outputs": [
    {
     "name": "stdout",
     "output_type": "stream",
     "text": [
      "My model: \n",
      "\n",
      " Net(\n",
      "  (conv): Sequential(\n",
      "    (0): Conv2d(1, 6, kernel_size=(5, 5), stride=(1, 1))\n",
      "    (1): ReLU()\n",
      "    (2): BatchNorm2d(6, eps=1e-05, momentum=0.1, affine=True, track_running_stats=True)\n",
      "    (3): Dropout(p=0.2, inplace=False)\n",
      "    (4): Conv2d(6, 6, kernel_size=(5, 5), stride=(1, 1))\n",
      "    (5): ReLU()\n",
      "    (6): BatchNorm2d(6, eps=1e-05, momentum=0.1, affine=True, track_running_stats=True)\n",
      "    (7): Dropout(p=0.2, inplace=False)\n",
      "  )\n",
      "  (seq): Sequential(\n",
      "    (0): Linear(in_features=2400, out_features=1024, bias=True)\n",
      "    (1): ReLU()\n",
      "  )\n",
      "  (residual_downsampler): Sequential(\n",
      "    (0): Linear(in_features=784, out_features=1024, bias=True)\n",
      "    (1): ReLU()\n",
      "  )\n",
      "  (fc): Sequential(\n",
      "    (0): Linear(in_features=1024, out_features=10, bias=True)\n",
      "    (1): LogSoftmax(dim=1)\n",
      "  )\n",
      ") \n",
      "\n",
      "The state dict keys: \n",
      "\n",
      " odict_keys(['conv.0.weight', 'conv.0.bias', 'conv.2.weight', 'conv.2.bias', 'conv.2.running_mean', 'conv.2.running_var', 'conv.2.num_batches_tracked', 'conv.4.weight', 'conv.4.bias', 'conv.6.weight', 'conv.6.bias', 'conv.6.running_mean', 'conv.6.running_var', 'conv.6.num_batches_tracked', 'seq.0.weight', 'seq.0.bias', 'residual_downsampler.0.weight', 'residual_downsampler.0.bias', 'fc.0.weight', 'fc.0.bias'])\n"
     ]
    }
   ],
   "source": [
    "print(\"My model: \\n\\n\", model, \"\\n\")\n",
    "print(\"The state dict keys: \\n\\n\", model.state_dict().keys())"
   ]
  },
  {
   "cell_type": "code",
   "execution_count": 10,
   "metadata": {
    "colab": {},
    "colab_type": "code",
    "id": "fA40S7qUaTM6"
   },
   "outputs": [],
   "source": [
    "DIR = \"checkpoints\"\n",
    "\n",
    "if not os.path.isdir(DIR):\n",
    "    os.mkdir(DIR)\n",
    "\n",
    "    \n",
    "torch.save(model.state_dict(), DIR + '/fashion_mnist_checkpoint.pth')"
   ]
  },
  {
   "cell_type": "code",
   "execution_count": null,
   "metadata": {},
   "outputs": [],
   "source": []
  }
 ],
 "metadata": {
  "accelerator": "GPU",
  "colab": {
   "name": "fashion-mnist.ipynb",
   "provenance": [],
   "version": "0.3.2"
  },
  "kernelspec": {
   "display_name": "Python 3",
   "language": "python",
   "name": "python3"
  },
  "language_info": {
   "codemirror_mode": {
    "name": "ipython",
    "version": 3
   },
   "file_extension": ".py",
   "mimetype": "text/x-python",
   "name": "python",
   "nbconvert_exporter": "python",
   "pygments_lexer": "ipython3",
   "version": "3.8.8"
  }
 },
 "nbformat": 4,
 "nbformat_minor": 1
}
